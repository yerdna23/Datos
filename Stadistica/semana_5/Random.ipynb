{
 "cells": [
  {
   "cell_type": "code",
   "execution_count": 1,
   "id": "8cf6c7ab-30b8-46ef-a2c0-3e3b58428154",
   "metadata": {},
   "outputs": [],
   "source": [
    "import matplotlib.pyplot as plt\n",
    "import numpy as np"
   ]
  },
  {
   "cell_type": "code",
   "execution_count": 2,
   "id": "5733fb20-fa25-4249-9685-4ea76a6ea7a9",
   "metadata": {},
   "outputs": [
    {
     "data": {
      "text/plain": [
       "array([0, 1, 0, 0])"
      ]
     },
     "execution_count": 2,
     "metadata": {},
     "output_type": "execute_result"
    }
   ],
   "source": [
    "np.random.randint(2, size=4)"
   ]
  },
  {
   "cell_type": "code",
   "execution_count": 3,
   "id": "2107fa4d-86fc-40f2-ab3d-cac598ca671f",
   "metadata": {},
   "outputs": [
    {
     "data": {
      "text/plain": [
       "array([0, 0, 0, 0])"
      ]
     },
     "execution_count": 3,
     "metadata": {},
     "output_type": "execute_result"
    }
   ],
   "source": [
    "np.random.randint(1, size=4)"
   ]
  },
  {
   "cell_type": "code",
   "execution_count": 4,
   "id": "81cccdc1-e0f1-42bc-bbbd-bf4b0030ce74",
   "metadata": {},
   "outputs": [
    {
     "data": {
      "text/plain": [
       "array([1, 0, 3, 0])"
      ]
     },
     "execution_count": 4,
     "metadata": {},
     "output_type": "execute_result"
    }
   ],
   "source": [
    "np.random.randint(4, size=4)"
   ]
  },
  {
   "cell_type": "code",
   "execution_count": 5,
   "id": "38fb8d7c-c0e9-4e33-9e78-f955961a83cc",
   "metadata": {},
   "outputs": [
    {
     "data": {
      "text/plain": [
       "array([15, 14,  5, 17])"
      ]
     },
     "execution_count": 5,
     "metadata": {},
     "output_type": "execute_result"
    }
   ],
   "source": [
    "np.random.randint(20, size=4)"
   ]
  },
  {
   "cell_type": "code",
   "execution_count": 6,
   "id": "9ef908a4-34f6-4047-b4c5-9e141dce690b",
   "metadata": {},
   "outputs": [],
   "source": [
    "# Do this (new version)\n",
    "from numpy.random import default_rng\n",
    "rng = default_rng()\n",
    "vals = rng.standard_normal(10)\n",
    "more_vals = rng.standard_normal(10)\n"
   ]
  },
  {
   "cell_type": "code",
   "execution_count": 7,
   "id": "5e5689e1-98b4-4234-9d11-4f164101fc37",
   "metadata": {},
   "outputs": [
    {
     "data": {
      "text/plain": [
       "array([-0.05304708, -0.38996184,  1.71311626,  0.81719734,  1.70184556,\n",
       "        0.08406176,  0.84364647, -0.81721531, -0.21026405, -0.93698757])"
      ]
     },
     "execution_count": 7,
     "metadata": {},
     "output_type": "execute_result"
    }
   ],
   "source": [
    "more_vals"
   ]
  },
  {
   "cell_type": "code",
   "execution_count": 8,
   "id": "650d1b11-9992-4091-b019-889bb976ffef",
   "metadata": {},
   "outputs": [
    {
     "data": {
      "text/plain": [
       "Generator(PCG64) at 0x7FECB134B500"
      ]
     },
     "execution_count": 8,
     "metadata": {},
     "output_type": "execute_result"
    }
   ],
   "source": [
    "rng"
   ]
  },
  {
   "cell_type": "code",
   "execution_count": 16,
   "id": "46b4b040-4e27-4340-a025-b9842522e450",
   "metadata": {},
   "outputs": [
    {
     "data": {
      "text/plain": [
       "array([[0.61861457, 0.0626993 , 0.55715021, 0.03913053],\n",
       "       [0.30841474, 0.63795136, 0.35949502, 0.88834548],\n",
       "       [0.98829406, 0.51682999, 0.34032836, 0.43589469],\n",
       "       [0.5944845 , 0.42920732, 0.84465723, 0.84337559],\n",
       "       [0.83025012, 0.25808711, 0.23650955, 0.95453492]])"
      ]
     },
     "execution_count": 16,
     "metadata": {},
     "output_type": "execute_result"
    }
   ],
   "source": [
    "np.random.rand(5,4)"
   ]
  },
  {
   "cell_type": "code",
   "execution_count": 14,
   "id": "da0c6634-108d-479d-aea1-0fd9fbe3e96a",
   "metadata": {},
   "outputs": [],
   "source": [
    "# random.choice(a, size=None, replace=True, p=None)\n",
    "#p1-D array-like, optional\n",
    "#The probabilities associated with each entry in a. If not given the sample assumes a uniform distribution over all entries in a.\n"
   ]
  },
  {
   "cell_type": "code",
   "execution_count": 10,
   "id": "77d7903f-0ff8-4838-a022-7bc68d04f9d1",
   "metadata": {},
   "outputs": [
    {
     "data": {
      "text/plain": [
       "array([1, 4, 0])"
      ]
     },
     "execution_count": 10,
     "metadata": {},
     "output_type": "execute_result"
    }
   ],
   "source": [
    "np.random.choice(5, 3, replace=False)"
   ]
  },
  {
   "cell_type": "code",
   "execution_count": 29,
   "id": "094ecf9b-9135-43f8-8ec8-7011e0fd556d",
   "metadata": {},
   "outputs": [
    {
     "data": {
      "text/plain": [
       "array([1, 1, 5])"
      ]
     },
     "execution_count": 29,
     "metadata": {},
     "output_type": "execute_result"
    }
   ],
   "source": [
    "np.random.choice((1,5), 3)"
   ]
  },
  {
   "cell_type": "code",
   "execution_count": 12,
   "id": "86f2d68f-d48d-44eb-b95e-97db483484fd",
   "metadata": {},
   "outputs": [
    {
     "data": {
      "text/plain": [
       "array([0, 1, 3, 1, 4])"
      ]
     },
     "execution_count": 12,
     "metadata": {},
     "output_type": "execute_result"
    }
   ],
   "source": [
    "np.random.randint(0,5,5)"
   ]
  },
  {
   "cell_type": "code",
   "execution_count": 13,
   "id": "2dd90ceb-509e-476d-b98f-defc292cfb04",
   "metadata": {},
   "outputs": [
    {
     "data": {
      "text/plain": [
       "array([2, 3, 0])"
      ]
     },
     "execution_count": 13,
     "metadata": {},
     "output_type": "execute_result"
    }
   ],
   "source": [
    "np.random.choice(5, 3, replace=False, p=[0.1, 0, 0.3, 0.6, 0])"
   ]
  },
  {
   "cell_type": "code",
   "execution_count": 25,
   "id": "7288badf-4e25-4beb-80f1-656f42f0f67c",
   "metadata": {},
   "outputs": [
    {
     "data": {
      "text/plain": [
       "array([ 7, 12, 12,  8,  8, 10, 15,  7, 14,  8])"
      ]
     },
     "execution_count": 25,
     "metadata": {},
     "output_type": "execute_result"
    }
   ],
   "source": [
    "#Generetor\n",
    "rng = np.random.default_rng()\n",
    "n, p = 100, .1\n",
    "# result of flipping a coin 10 times, tested 1000 times.\n",
    "rng.binomial(n, p, 10)\n"
   ]
  },
  {
   "cell_type": "code",
   "execution_count": 27,
   "id": "71816805-019b-4414-9add-b2ed7073403a",
   "metadata": {},
   "outputs": [
    {
     "data": {
      "text/plain": [
       "array([ 99.8783506 , 100.01182067, 100.06536278,  99.87671252,\n",
       "        99.95396894,  99.97102969, 100.11542258,  99.9651582 ,\n",
       "        99.9435173 , 100.18528084])"
      ]
     },
     "execution_count": 27,
     "metadata": {},
     "output_type": "execute_result"
    }
   ],
   "source": [
    "rng.normal(n, p, 10)"
   ]
  },
  {
   "cell_type": "code",
   "execution_count": null,
   "id": "de8c31b4-f5c3-4d3e-95c7-96cff4f5dacb",
   "metadata": {},
   "outputs": [],
   "source": []
  }
 ],
 "metadata": {
  "kernelspec": {
   "display_name": "Python 3",
   "language": "python",
   "name": "python3"
  },
  "language_info": {
   "codemirror_mode": {
    "name": "ipython",
    "version": 3
   },
   "file_extension": ".py",
   "mimetype": "text/x-python",
   "name": "python",
   "nbconvert_exporter": "python",
   "pygments_lexer": "ipython3",
   "version": "3.7.7"
  }
 },
 "nbformat": 4,
 "nbformat_minor": 5
}
