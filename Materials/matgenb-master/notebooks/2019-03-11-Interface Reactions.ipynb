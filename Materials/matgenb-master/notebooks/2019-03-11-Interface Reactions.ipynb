{
 "cells": [
  {
   "cell_type": "markdown",
   "metadata": {},
   "source": [
    "# Interface Reactions\n",
    "\n",
    "This notebook shows how to\n",
    "* Obtain information about interface reactions between two solid substances in contact, and\n",
    "* Plot reaction energy as a function of mixing ratio.\n",
    "\n",
    "Written using:\n",
    "- pymatgen==2019.2.28\n",
    "\n",
    "We use the [Materials Project API](https://github.com/materialsproject/mapidoc) to obtain energies of compounds."
   ]
  },
  {
   "cell_type": "code",
   "execution_count": 1,
   "metadata": {},
   "outputs": [],
   "source": [
    "from pymatgen.ext.matproj import MPRester\n",
    "from pymatgen.analysis.interface_reactions import InterfacialReactivity\n",
    "from pymatgen.analysis.phase_diagram import PhaseDiagram, GrandPotentialPhaseDiagram\n",
    "from pymatgen import Composition, Element\n",
    "%matplotlib inline\n",
    "\n",
    "# Initialize the REST API interface. You may need to put your own API key in as an arg.\n",
    "mpr = MPRester()"
   ]
  },
  {
   "cell_type": "markdown",
   "metadata": {},
   "source": [
    "First, set the values of the two reactants. Optionally, simulate the case where the reaction system is in contact with an elemental reservoir.\n",
    "\n",
    "Because the methodology here is to generate a pseudo-binary phase stability diagram of two reactants as a function of mixing ratio, the addition of an elemental reservoir implies construction of a so-called _grand potential phase diagram_."
   ]
  },
  {
   "cell_type": "code",
   "execution_count": 2,
   "metadata": {},
   "outputs": [],
   "source": [
    "# Chemical formulae for two solid reactants.\n",
    "reactant1 = 'LiCoO2'\n",
    "reactant2 = 'Li3PS4'\n",
    "\n",
    "# Is the system open to an elemental reservoir?\n",
    "grand = True\n",
    "\n",
    "if grand:\n",
    "    # Element in the elemental reservoir.\n",
    "    open_el = 'Co'\n",
    "    # Relative chemical potential vs. pure substance. Must be non-positive.\n",
    "    relative_mu = -1"
   ]
  },
  {
   "cell_type": "markdown",
   "metadata": {},
   "source": [
    "Now, compile the critical reaction information:"
   ]
  },
  {
   "cell_type": "code",
   "execution_count": 3,
   "metadata": {},
   "outputs": [],
   "source": [
    "# Get the compositions of the reactants\n",
    "comp1 = Composition(reactant1)\n",
    "comp2 = Composition(reactant2)\n",
    "\n",
    "# Gather all elements involved in the chemical system.\n",
    "elements = [e.symbol for e in comp1.elements + comp2.elements]\n",
    "if grand:\n",
    "    elements.append(open_el)\n",
    "elements = list(set(elements)) # Remove duplicates\n",
    "\n",
    "# Get all entries in the chemical system\n",
    "entries = mpr.get_entries_in_chemsys(elements)\n",
    "\n",
    "# Build a phase diagram using these entries.\n",
    "pd = PhaseDiagram(entries)\n",
    "\n",
    "# For an open system, include the grand potential phase diagram.\n",
    "if grand:\n",
    "    # Get the chemical potential of the pure subtance.\n",
    "    mu = pd.get_transition_chempots(Element(open_el))[0]\n",
    "    # Set the chemical potential in the elemental reservoir.\n",
    "    chempots = {open_el: relative_mu + mu}\n",
    "    # Build the grand potential phase diagram\n",
    "    gpd = GrandPotentialPhaseDiagram(entries, chempots)\n",
    "    # Create InterfacialReactivity object.\n",
    "    interface = InterfacialReactivity(\n",
    "        comp1, comp2, gpd, norm=True, include_no_mixing_energy=True, pd_non_grand=pd, use_hull_energy=False)\n",
    "else:\n",
    "    interface = InterfacialReactivity(\n",
    "        comp1, comp2, pd, norm=True, include_no_mixing_energy=False, pd_non_grand=None, use_hull_energy=False)"
   ]
  },
  {
   "cell_type": "markdown",
   "metadata": {},
   "source": [
    "From here, you can plot reaction energy versus mixing ratio as below. Note that the mixing ratio is between the normalized compositions of the reactants."
   ]
  },
  {
   "cell_type": "code",
   "execution_count": 4,
   "metadata": {},
   "outputs": [
    {
     "data": {
      "image/png": "[encoded data removed]",
      "text/plain": [
       "<Figure size 432x288 with 1 Axes>"
      ]
     },
     "metadata": {},
     "output_type": "display_data"
    }
   ],
   "source": [
    "plt = interface.plot()"
   ]
  },
  {
   "cell_type": "code",
   "execution_count": 5,
   "metadata": {},
   "outputs": [
    {
     "data": {
      "text/html": [
       "<div>\n",
       "<style scoped>\n",
       "    .dataframe tbody tr th:only-of-type {\n",
       "        vertical-align: middle;\n",
       "    }\n",
       "\n",
       "    .dataframe tbody tr th {\n",
       "        vertical-align: top;\n",
       "    }\n",
       "\n",
       "    .dataframe thead th {\n",
       "        text-align: right;\n",
       "    }\n",
       "</style>\n",
       "<table border=\"1\" class=\"dataframe\">\n",
       "  <thead>\n",
       "    <tr style=\"text-align: right;\">\n",
       "      <th></th>\n",
       "      <th>Atomic fraction</th>\n",
       "      <th>Reaction equation</th>\n",
       "      <th>E$_{rxt}$ per mol equation (kJ/mol)</th>\n",
       "      <th>E$_{rxt}$ per reactant atom (eV/atom)</th>\n",
       "    </tr>\n",
       "  </thead>\n",
       "  <tbody>\n",
       "    <tr>\n",
       "      <th>0</th>\n",
       "      <td>0.000</td>\n",
       "      <td>Li3PS4 -&gt; Li3PS4</td>\n",
       "      <td>0.0</td>\n",
       "      <td>0.000</td>\n",
       "    </tr>\n",
       "    <tr>\n",
       "      <th>1</th>\n",
       "      <td>0.500</td>\n",
       "      <td>0.3333 Li3PS4 + 0.6667 LiCoO2 -&gt; 0.1667 Co + 0...</td>\n",
       "      <td>-206.4</td>\n",
       "      <td>-0.458</td>\n",
       "    </tr>\n",
       "    <tr>\n",
       "      <th>2</th>\n",
       "      <td>0.800</td>\n",
       "      <td>0.1111 Li3PS4 + 0.8889 LiCoO2 -&gt; 0.8889 Co + 0...</td>\n",
       "      <td>-195.9</td>\n",
       "      <td>-0.571</td>\n",
       "    </tr>\n",
       "    <tr>\n",
       "      <th>3</th>\n",
       "      <td>0.842</td>\n",
       "      <td>0.08571 Li3PS4 + 0.9143 LiCoO2 -&gt; 0.9143 Co + ...</td>\n",
       "      <td>-185.3</td>\n",
       "      <td>-0.560</td>\n",
       "    </tr>\n",
       "    <tr>\n",
       "      <th>4</th>\n",
       "      <td>0.850</td>\n",
       "      <td>0.08108 Li3PS4 + 0.9189 LiCoO2 -&gt; 0.8649 Co + ...</td>\n",
       "      <td>-175.8</td>\n",
       "      <td>-0.535</td>\n",
       "    </tr>\n",
       "    <tr>\n",
       "      <th>5</th>\n",
       "      <td>1.000</td>\n",
       "      <td>LiCoO2 -&gt; LiCoO2</td>\n",
       "      <td>-0.0</td>\n",
       "      <td>-0.000</td>\n",
       "    </tr>\n",
       "  </tbody>\n",
       "</table>\n",
       "</div>"
      ],
      "text/plain": [
       "   Atomic fraction                                  Reaction equation  \\\n",
       "0            0.000                                   Li3PS4 -> Li3PS4   \n",
       "1            0.500  0.3333 Li3PS4 + 0.6667 LiCoO2 -> 0.1667 Co + 0...   \n",
       "2            0.800  0.1111 Li3PS4 + 0.8889 LiCoO2 -> 0.8889 Co + 0...   \n",
       "3            0.842  0.08571 Li3PS4 + 0.9143 LiCoO2 -> 0.9143 Co + ...   \n",
       "4            0.850  0.08108 Li3PS4 + 0.9189 LiCoO2 -> 0.8649 Co + ...   \n",
       "5            1.000                                   LiCoO2 -> LiCoO2   \n",
       "\n",
       "   E$_{rxt}$ per mol equation (kJ/mol)  E$_{rxt}$ per reactant atom (eV/atom)  \n",
       "0                                  0.0                                  0.000  \n",
       "1                               -206.4                                 -0.458  \n",
       "2                               -195.9                                 -0.571  \n",
       "3                               -185.3                                 -0.560  \n",
       "4                               -175.8                                 -0.535  \n",
       "5                                 -0.0                                 -0.000  "
      ]
     },
     "execution_count": 5,
     "metadata": {},
     "output_type": "execute_result"
    }
   ],
   "source": [
    "from collections import OrderedDict\n",
    "import pandas as pd\n",
    "\n",
    "critical_rxns = [\n",
    "    OrderedDict([\n",
    "        (\"Atomic fraction\", round(ratio, 3)),\n",
    "        (\"Reaction equation\", rxn),\n",
    "        (\"E$_{rxt}$ per mol equation (kJ/mol)\", round(rxn_energy, 1)),\n",
    "        (\"E$_{rxt}$ per reactant atom (eV/atom)\", round(reactivity, 3)),\n",
    "\n",
    "    ])\n",
    "    for _, ratio, reactivity, rxn, rxn_energy in interface.get_kinks()]\n",
    "interface_reaction_table = pd.DataFrame(critical_rxns)\n",
    "interface_reaction_table"
   ]
  },
  {
   "cell_type": "markdown",
   "metadata": {},
   "source": [
    "You can also obtain the mixing ratio between the original compositions, i.e. mol fraction of the first reactant."
   ]
  },
  {
   "cell_type": "code",
   "execution_count": 6,
   "metadata": {},
   "outputs": [
    {
     "data": {
      "text/html": [
       "<div>\n",
       "<style scoped>\n",
       "    .dataframe tbody tr th:only-of-type {\n",
       "        vertical-align: middle;\n",
       "    }\n",
       "\n",
       "    .dataframe tbody tr th {\n",
       "        vertical-align: top;\n",
       "    }\n",
       "\n",
       "    .dataframe thead th {\n",
       "        text-align: right;\n",
       "    }\n",
       "</style>\n",
       "<table border=\"1\" class=\"dataframe\">\n",
       "  <thead>\n",
       "    <tr style=\"text-align: right;\">\n",
       "      <th></th>\n",
       "      <th>Atomic fraction</th>\n",
       "      <th>Reaction equation</th>\n",
       "      <th>E$_{rxt}$ per mol equation (kJ/mol)</th>\n",
       "      <th>E$_{rxt}$ per reactant atom (eV/atom)</th>\n",
       "      <th>Molar fraction</th>\n",
       "    </tr>\n",
       "  </thead>\n",
       "  <tbody>\n",
       "    <tr>\n",
       "      <th>0</th>\n",
       "      <td>0.000</td>\n",
       "      <td>Li3PS4 -&gt; Li3PS4</td>\n",
       "      <td>0.0</td>\n",
       "      <td>0.000</td>\n",
       "      <td>0.000</td>\n",
       "    </tr>\n",
       "    <tr>\n",
       "      <th>1</th>\n",
       "      <td>0.500</td>\n",
       "      <td>0.3333 Li3PS4 + 0.6667 LiCoO2 -&gt; 0.1667 Co + 0...</td>\n",
       "      <td>-206.4</td>\n",
       "      <td>-0.458</td>\n",
       "      <td>0.667</td>\n",
       "    </tr>\n",
       "    <tr>\n",
       "      <th>2</th>\n",
       "      <td>0.800</td>\n",
       "      <td>0.1111 Li3PS4 + 0.8889 LiCoO2 -&gt; 0.8889 Co + 0...</td>\n",
       "      <td>-195.9</td>\n",
       "      <td>-0.571</td>\n",
       "      <td>0.889</td>\n",
       "    </tr>\n",
       "    <tr>\n",
       "      <th>3</th>\n",
       "      <td>0.842</td>\n",
       "      <td>0.08571 Li3PS4 + 0.9143 LiCoO2 -&gt; 0.9143 Co + ...</td>\n",
       "      <td>-185.3</td>\n",
       "      <td>-0.560</td>\n",
       "      <td>0.914</td>\n",
       "    </tr>\n",
       "    <tr>\n",
       "      <th>4</th>\n",
       "      <td>0.850</td>\n",
       "      <td>0.08108 Li3PS4 + 0.9189 LiCoO2 -&gt; 0.8649 Co + ...</td>\n",
       "      <td>-175.8</td>\n",
       "      <td>-0.535</td>\n",
       "      <td>0.919</td>\n",
       "    </tr>\n",
       "    <tr>\n",
       "      <th>5</th>\n",
       "      <td>1.000</td>\n",
       "      <td>LiCoO2 -&gt; LiCoO2</td>\n",
       "      <td>-0.0</td>\n",
       "      <td>-0.000</td>\n",
       "      <td>1.000</td>\n",
       "    </tr>\n",
       "  </tbody>\n",
       "</table>\n",
       "</div>"
      ],
      "text/plain": [
       "   Atomic fraction                                  Reaction equation  \\\n",
       "0            0.000                                   Li3PS4 -> Li3PS4   \n",
       "1            0.500  0.3333 Li3PS4 + 0.6667 LiCoO2 -> 0.1667 Co + 0...   \n",
       "2            0.800  0.1111 Li3PS4 + 0.8889 LiCoO2 -> 0.8889 Co + 0...   \n",
       "3            0.842  0.08571 Li3PS4 + 0.9143 LiCoO2 -> 0.9143 Co + ...   \n",
       "4            0.850  0.08108 Li3PS4 + 0.9189 LiCoO2 -> 0.8649 Co + ...   \n",
       "5            1.000                                   LiCoO2 -> LiCoO2   \n",
       "\n",
       "   E$_{rxt}$ per mol equation (kJ/mol)  E$_{rxt}$ per reactant atom (eV/atom)  \\\n",
       "0                                  0.0                                  0.000   \n",
       "1                               -206.4                                 -0.458   \n",
       "2                               -195.9                                 -0.571   \n",
       "3                               -185.3                                 -0.560   \n",
       "4                               -175.8                                 -0.535   \n",
       "5                                 -0.0                                 -0.000   \n",
       "\n",
       "   Molar fraction  \n",
       "0           0.000  \n",
       "1           0.667  \n",
       "2           0.889  \n",
       "3           0.914  \n",
       "4           0.919  \n",
       "5           1.000  "
      ]
     },
     "execution_count": 6,
     "metadata": {},
     "output_type": "execute_result"
    }
   ],
   "source": [
    "import numpy as np\n",
    "interface_reaction_table['Molar fraction'] = pd.Series(np.round(interface.get_critical_original_kink_ratio(), 3))\n",
    "interface_reaction_table"
   ]
  },
  {
   "cell_type": "markdown",
   "metadata": {},
   "source": [
    "Note that the reaction equations are `Reaction` objects suitable for structured analysis:"
   ]
  },
  {
   "cell_type": "code",
   "execution_count": 7,
   "metadata": {},
   "outputs": [
    {
     "name": "stdout",
     "output_type": "stream",
     "text": [
      "0.1111 Li3PS4 + 0.8889 LiCoO2 -> 0.8889 Co + 0.3333 Li2SO4 + 0.1111 Li2S + 0.1111 Li3PO4\n",
      "<class 'pymatgen.analysis.reaction_calculator.Reaction'>\n"
     ]
    }
   ],
   "source": [
    "rxn = critical_rxns[2][\"Reaction equation\"]\n",
    "print(rxn)\n",
    "print(type(rxn))"
   ]
  },
  {
   "cell_type": "code",
   "execution_count": 8,
   "metadata": {},
   "outputs": [
    {
     "name": "stdout",
     "output_type": "stream",
     "text": [
      "{'ratio_atomic': 0.5000000000000001, 'ratio_molar': 0.6666666666666666, 'energy': -0.45837463535714296, 'rxn': Li3PS4 + 2 LiCoO2 -> 0.5 Co + Li2S + 1.5 CoS2 + Li3PO4, 'rxn_str': '0.333 Li3PS4 + 0.667 LiCoO2 -> 0.167 Co + 0.333 Li2S + 0.5 CoS2 + 0.333 Li3PO4', 'rxn_energy_sigdig': '-0.4584', 'rxn_energy_sigdig_kJmol': '-206.4', 'energy_per_mol_rxn_kJmol': -206.389932955848}\n"
     ]
    }
   ],
   "source": [
    "# Get interface reaction information for reactants LiCoO2 and Li3PS4 in open system to Co.\n",
    "kinks_from_API = mpr.get_interface_reactions('LiCoO2','Li3PS4', open_el='Co', relative_mu=-1, use_hull_energy=False)\n",
    "\n",
    "# Get inforamtion for the second critical reaction.\n",
    "print(kinks_from_API[1])"
   ]
  },
  {
   "cell_type": "markdown",
   "metadata": {},
   "source": [
    "The critical reaction information from REST API should be the same as in the previous table:"
   ]
  },
  {
   "cell_type": "code",
   "execution_count": 9,
   "metadata": {},
   "outputs": [
    {
     "data": {
      "text/html": [
       "<div>\n",
       "<style scoped>\n",
       "    .dataframe tbody tr th:only-of-type {\n",
       "        vertical-align: middle;\n",
       "    }\n",
       "\n",
       "    .dataframe tbody tr th {\n",
       "        vertical-align: top;\n",
       "    }\n",
       "\n",
       "    .dataframe thead th {\n",
       "        text-align: right;\n",
       "    }\n",
       "</style>\n",
       "<table border=\"1\" class=\"dataframe\">\n",
       "  <thead>\n",
       "    <tr style=\"text-align: right;\">\n",
       "      <th></th>\n",
       "      <th>Atomic fraction</th>\n",
       "      <th>Molar fraction</th>\n",
       "      <th>Reaction equation</th>\n",
       "      <th>E$_{rxt}$ per mol equation (kJ/mol)</th>\n",
       "      <th>E$_{rxt}$ per reactant atom (eV/atom)</th>\n",
       "    </tr>\n",
       "  </thead>\n",
       "  <tbody>\n",
       "    <tr>\n",
       "      <th>0</th>\n",
       "      <td>0.000</td>\n",
       "      <td>0.000</td>\n",
       "      <td>Li3PS4 -&gt; Li3PS4</td>\n",
       "      <td>0.0</td>\n",
       "      <td>0.000</td>\n",
       "    </tr>\n",
       "    <tr>\n",
       "      <th>1</th>\n",
       "      <td>0.500</td>\n",
       "      <td>0.667</td>\n",
       "      <td>0.333 Li3PS4 + 0.667 LiCoO2 -&gt; 0.167 Co + 0.33...</td>\n",
       "      <td>-206.4</td>\n",
       "      <td>-0.458</td>\n",
       "    </tr>\n",
       "    <tr>\n",
       "      <th>2</th>\n",
       "      <td>0.800</td>\n",
       "      <td>0.889</td>\n",
       "      <td>0.111 Li3PS4 + 0.889 LiCoO2 -&gt; 0.889 Co + 0.33...</td>\n",
       "      <td>-195.9</td>\n",
       "      <td>-0.571</td>\n",
       "    </tr>\n",
       "    <tr>\n",
       "      <th>3</th>\n",
       "      <td>0.842</td>\n",
       "      <td>0.914</td>\n",
       "      <td>0.086 Li3PS4 + 0.914 LiCoO2 -&gt; 0.914 Co + 0.11...</td>\n",
       "      <td>-185.3</td>\n",
       "      <td>-0.560</td>\n",
       "    </tr>\n",
       "    <tr>\n",
       "      <th>4</th>\n",
       "      <td>0.850</td>\n",
       "      <td>0.919</td>\n",
       "      <td>0.081 Li3PS4 + 0.919 LiCoO2 -&gt; 0.865 Co + 0.05...</td>\n",
       "      <td>-175.8</td>\n",
       "      <td>-0.535</td>\n",
       "    </tr>\n",
       "    <tr>\n",
       "      <th>5</th>\n",
       "      <td>1.000</td>\n",
       "      <td>1.000</td>\n",
       "      <td>LiCoO2 -&gt; LiCoO2</td>\n",
       "      <td>-0.0</td>\n",
       "      <td>-0.000</td>\n",
       "    </tr>\n",
       "  </tbody>\n",
       "</table>\n",
       "</div>"
      ],
      "text/plain": [
       "   Atomic fraction  Molar fraction  \\\n",
       "0            0.000           0.000   \n",
       "1            0.500           0.667   \n",
       "2            0.800           0.889   \n",
       "3            0.842           0.914   \n",
       "4            0.850           0.919   \n",
       "5            1.000           1.000   \n",
       "\n",
       "                                   Reaction equation  \\\n",
       "0                                   Li3PS4 -> Li3PS4   \n",
       "1  0.333 Li3PS4 + 0.667 LiCoO2 -> 0.167 Co + 0.33...   \n",
       "2  0.111 Li3PS4 + 0.889 LiCoO2 -> 0.889 Co + 0.33...   \n",
       "3  0.086 Li3PS4 + 0.914 LiCoO2 -> 0.914 Co + 0.11...   \n",
       "4  0.081 Li3PS4 + 0.919 LiCoO2 -> 0.865 Co + 0.05...   \n",
       "5                                   LiCoO2 -> LiCoO2   \n",
       "\n",
       "   E$_{rxt}$ per mol equation (kJ/mol)  E$_{rxt}$ per reactant atom (eV/atom)  \n",
       "0                                  0.0                                  0.000  \n",
       "1                               -206.4                                 -0.458  \n",
       "2                               -195.9                                 -0.571  \n",
       "3                               -185.3                                 -0.560  \n",
       "4                               -175.8                                 -0.535  \n",
       "5                                 -0.0                                 -0.000  "
      ]
     },
     "execution_count": 9,
     "metadata": {},
     "output_type": "execute_result"
    }
   ],
   "source": [
    "critical_rxns_from_API = [\n",
    "    OrderedDict([\n",
    "        (\"Atomic fraction\", round(reaction['ratio_atomic'], 3)),\n",
    "        (\"Molar fraction\", round(reaction['ratio_molar'], 3)),\n",
    "        (\"Reaction equation\", reaction['rxn_str']),\n",
    "        (\"E$_{rxt}$ per mol equation (kJ/mol)\", round(float(reaction['rxn_energy_sigdig_kJmol']),1)),\n",
    "        (\"E$_{rxt}$ per reactant atom (eV/atom)\", round(reaction['energy'], 3))\n",
    "    ])\n",
    "    for reaction in kinks_from_API]\n",
    "pd.DataFrame(critical_rxns_from_API)"
   ]
  },
  {
   "cell_type": "code",
   "execution_count": null,
   "metadata": {},
   "outputs": [],
   "source": []
  }
 ],
 "metadata": {
  "kernelspec": {
   "display_name": "Python 3",
   "language": "python",
   "name": "python3"
  },
  "language_info": {
   "codemirror_mode": {
    "name": "ipython",
    "version": 3
   },
   "file_extension": ".py",
   "mimetype": "text/x-python",
   "name": "python",
   "nbconvert_exporter": "python",
   "pygments_lexer": "ipython3",
   "version": "3.6.4"
  }
 },
 "nbformat": 4,
 "nbformat_minor": 2
}
