{
 "cells": [
  {
   "cell_type": "markdown",
   "metadata": {},
   "source": [
    "# How to plot a Fermi surface"
   ]
  },
  {
   "cell_type": "markdown",
   "metadata": {},
   "source": [
    "## Using BoltzTraP v1"
   ]
  },
  {
   "cell_type": "markdown",
   "metadata": {},
   "source": [
    "### PbTe mp-19717"
   ]
  },
  {
   "cell_type": "code",
   "execution_count": 1,
   "metadata": {},
   "outputs": [],
   "source": [
    "from pymatgen.electronic_structure.plotter import plot_fermi_surface\n",
    "from monty.os import makedirs_p\n",
    "from pymatgen.symmetry.bandstructure import HighSymmKpath"
   ]
  },
  {
   "cell_type": "code",
   "execution_count": 9,
   "metadata": {},
   "outputs": [
    {
     "name": "stderr",
     "output_type": "stream",
     "text": [
      "/usr/lib64/python3.7/site-packages/pymatgen/io/vasp/outputs.py:886: UserWarning: No POTCAR file with matching TITEL fields was found in /home/tardo/github/matgenb/notebooks/boltztrap2_data\n",
      "  \" was found in {}\".format(os.path.abspath(p)))\n"
     ]
    }
   ],
   "source": [
    "vrun = Vasprun('boltztrap2_data/vasprun-PbTe_uniform_bs.xml')\n",
    "bs = vrun.get_band_structure()\n",
    "nelect = vrun.parameters['NELECT']"
   ]
  },
  {
   "cell_type": "markdown",
   "metadata": {},
   "source": [
    "#### VBM "
   ]
  },
  {
   "cell_type": "code",
   "execution_count": 10,
   "metadata": {},
   "outputs": [],
   "source": [
    "# specify here the band index you need, in this example the vbm is taken\n",
    "vbm = bs.get_vbm()['band_index'][Spin.up][-1]"
   ]
  },
  {
   "cell_type": "code",
   "execution_count": 11,
   "metadata": {},
   "outputs": [],
   "source": [
    "# create the directory \"fermi/vbm\" before\n",
    "makedirs_p('fermi/vbm/')\n",
    "\n",
    "# run the interpolation, lpfac should be between 50 and 150\n",
    "BoltztrapRunner(bs=bs,nelec=nelect,lpfac=10,run_type='FERMI',band_nb=vbm,cond_band=False).run(path_dir='fermi/vbm/')\n",
    "\n",
    "# read the output\n",
    "an=BoltztrapAnalyzer.from_files(\"fermi/vbm/boltztrap/\")"
   ]
  },
  {
   "cell_type": "code",
   "execution_count": 12,
   "metadata": {},
   "outputs": [],
   "source": [
    "# prepare high symmetry points labels\n",
    "st = vrun.final_structure\n",
    "kpoints_dict = HighSymmKpath(st).kpath['kpoints']"
   ]
  },
  {
   "cell_type": "code",
   "execution_count": 13,
   "metadata": {},
   "outputs": [
    {
     "data": {
      "text/plain": [
       "{'\\\\Gamma': array([0., 0., 0.]),\n",
       " 'K': array([0.375, 0.375, 0.75 ]),\n",
       " 'L': array([0.5, 0.5, 0.5]),\n",
       " 'U': array([0.625, 0.25 , 0.625]),\n",
       " 'W': array([0.5 , 0.25, 0.75]),\n",
       " 'X': array([0.5, 0. , 0.5])}"
      ]
     },
     "execution_count": 13,
     "metadata": {},
     "output_type": "execute_result"
    }
   ],
   "source": [
    "# edit or generete a dict like this one to pass the kpoint labels and frac coords you want to plot\n",
    "kpoints_dict"
   ]
  },
  {
   "cell_type": "code",
   "execution_count": 15,
   "metadata": {},
   "outputs": [
    {
     "data": {
      "text/plain": [
       "0.005432916487335469"
      ]
     },
     "execution_count": 15,
     "metadata": {},
     "output_type": "execute_result"
    }
   ],
   "source": [
    "an.fermi_surface_data.max()"
   ]
  },
  {
   "cell_type": "code",
   "execution_count": 23,
   "metadata": {},
   "outputs": [
    {
     "data": {
      "text/plain": [
       "(<mayavi.core.scene.Scene at 0x7fcf4f4737d0>,\n",
       " <module 'mayavi.mlab' from '/home/tardo/.local/lib/python3.7/site-packages/mayavi/mlab.py'>)"
      ]
     },
     "execution_count": 23,
     "metadata": {},
     "output_type": "execute_result"
    }
   ],
   "source": [
    "# plot the surface in an external window\n",
    "# vbm is set at 0 eV, so we set an energy level of 0.05 below the vbm\n",
    "plot_fermi_surface(an.fermi_surface_data,bs.structure,cbm=False,energy_levels=[-0.05], \n",
    "                   kpoints_dict=kpoints_dict, labels_scale_factor=0.1)"
   ]
  },
  {
   "cell_type": "markdown",
   "metadata": {},
   "source": [
    "![Fermi surface of vbm for PbTe](boltztrap2_data/fermi_surface_vbm_PbTe.png)"
   ]
  },
  {
   "cell_type": "markdown",
   "metadata": {},
   "source": [
    "#### CBM"
   ]
  },
  {
   "cell_type": "code",
   "execution_count": 16,
   "metadata": {},
   "outputs": [],
   "source": [
    "# specify here another band index you need, in this example the cbm is taken\n",
    "cbm = bs.get_cbm()['band_index'][Spin.up][0]"
   ]
  },
  {
   "cell_type": "code",
   "execution_count": 17,
   "metadata": {},
   "outputs": [],
   "source": [
    "# create the directory \"fermi/cbm\" before\n",
    "makedirs_p('fermi/cbm/')\n",
    "\n",
    "# run the interpolation, lpfac should be between 50 and 150\n",
    "BoltztrapRunner(bs=bs,nelec=nelect,lpfac=10,run_type='FERMI',band_nb=cbm,cond_band=True).run(path_dir='fermi/cbm/')\n",
    "\n",
    "# read the output\n",
    "an=BoltztrapAnalyzer.from_files(\"fermi/cbm/boltztrap/\")"
   ]
  },
  {
   "cell_type": "code",
   "execution_count": 18,
   "metadata": {},
   "outputs": [
    {
     "data": {
      "text/plain": [
       "-0.8262383617146892"
      ]
     },
     "execution_count": 18,
     "metadata": {},
     "output_type": "execute_result"
    }
   ],
   "source": [
    "an.fermi_surface_data.max()"
   ]
  },
  {
   "cell_type": "code",
   "execution_count": 20,
   "metadata": {},
   "outputs": [
    {
     "data": {
      "text/plain": [
       "(<mayavi.core.scene.Scene at 0x7ffae8070350>,\n",
       " <module 'mayavi.mlab' from '/home/tardo/.local/lib/python3.7/site-packages/mayavi/mlab.py'>)"
      ]
     },
     "execution_count": 20,
     "metadata": {},
     "output_type": "execute_result"
    }
   ],
   "source": [
    "# plot the surface in an external window\n",
    "# cbm is at ~0.83 eV, so we set an energy level of 0.07 above the cbm\n",
    "\n",
    "plot_fermi_surface(an.fermi_surface_data,bs.structure,cbm=True,energy_levels=[0.9], \n",
    "                   kpoints_dict=kpoints_dict, labels_scale_factor=0.1)"
   ]
  },
  {
   "cell_type": "markdown",
   "metadata": {},
   "source": [
    "![Fermi surface of cbm for PbTe](boltztrap2_data/fermi_surface_cbm_PbTe.png)"
   ]
  },
  {
   "cell_type": "markdown",
   "metadata": {},
   "source": [
    "### AlAs mp-2172\n",
    "Example of how to plot multiple surfaces in the same figure"
   ]
  },
  {
   "cell_type": "code",
   "execution_count": 2,
   "metadata": {},
   "outputs": [
    {
     "name": "stderr",
     "output_type": "stream",
     "text": [
      "/usr/lib64/python3.7/site-packages/pymatgen/io/vasp/outputs.py:886: UserWarning: No POTCAR file with matching TITEL fields was found in /home/tardo/github/matgenb/notebooks/boltztrap2_data\n",
      "  \" was found in {}\".format(os.path.abspath(p)))\n"
     ]
    }
   ],
   "source": [
    "vrun = Vasprun('boltztrap2_data/vasprun_AlAs.xml.gz')\n",
    "bs = vrun.get_band_structure()\n",
    "nelect = vrun.parameters['NELECT']"
   ]
  },
  {
   "cell_type": "code",
   "execution_count": 3,
   "metadata": {},
   "outputs": [],
   "source": [
    "cbm = bs.get_cbm()['band_index'][Spin.up][0]\n",
    "vb1 = bs.get_vbm()['band_index'][Spin.up][-1]\n",
    "vb2 = bs.get_vbm()['band_index'][Spin.up][-2]\n",
    "vb3 = bs.get_vbm()['band_index'][Spin.up][-3]"
   ]
  },
  {
   "cell_type": "code",
   "execution_count": 4,
   "metadata": {},
   "outputs": [
    {
     "data": {
      "text/plain": [
       "(4, 3, 2, 1)"
      ]
     },
     "execution_count": 4,
     "metadata": {},
     "output_type": "execute_result"
    }
   ],
   "source": [
    "cbm, vb1, vb2, vb3"
   ]
  },
  {
   "cell_type": "code",
   "execution_count": 5,
   "metadata": {},
   "outputs": [],
   "source": [
    "st = vrun.final_structure\n",
    "kpoints_dict = HighSymmKpath(st).kpath['kpoints']"
   ]
  },
  {
   "cell_type": "code",
   "execution_count": 6,
   "metadata": {},
   "outputs": [
    {
     "data": {
      "text/plain": [
       "{'\\\\Gamma': array([0., 0., 0.]),\n",
       " 'K': array([0.375, 0.375, 0.75 ]),\n",
       " 'L': array([0.5, 0.5, 0.5]),\n",
       " 'U': array([0.625, 0.25 , 0.625]),\n",
       " 'W': array([0.5 , 0.25, 0.75]),\n",
       " 'X': array([0.5, 0. , 0.5])}"
      ]
     },
     "execution_count": 6,
     "metadata": {},
     "output_type": "execute_result"
    }
   ],
   "source": [
    "kpoints_dict"
   ]
  },
  {
   "cell_type": "markdown",
   "metadata": {},
   "source": [
    "#### CBM"
   ]
  },
  {
   "cell_type": "code",
   "execution_count": 7,
   "metadata": {},
   "outputs": [],
   "source": [
    "makedirs_p('fermi/cbm/')\n",
    "\n",
    "# run the interpolation, lpfac should be between 50 and 150\n",
    "BoltztrapRunner(bs=bs,nelec=nelect,lpfac=5,run_type='FERMI',band_nb=cbm,cond_band=True).run(path_dir='fermi/cbm/')\n",
    "\n",
    "# read the output\n",
    "an=BoltztrapAnalyzer.from_files(\"fermi/cbm/boltztrap/\")\n",
    "\n",
    "# plot the fermi surface and get the figure object\n",
    "fig, mlab = plot_fermi_surface(an.fermi_surface_data,bs.structure,cbm=True,energy_levels=[1.55], \n",
    "                               kpoints_dict=kpoints_dict, labels_scale_factor=0.1,\n",
    "                               interative=False,multiple_figure=False,color=(1,0,0))"
   ]
  },
  {
   "cell_type": "markdown",
   "metadata": {},
   "source": [
    "#### First three vb"
   ]
  },
  {
   "cell_type": "code",
   "execution_count": 8,
   "metadata": {
    "scrolled": true
   },
   "outputs": [
    {
     "name": "stdout",
     "output_type": "stream",
     "text": [
      "3\n",
      "2\n",
      "1\n"
     ]
    }
   ],
   "source": [
    "for vb,tf in zip((vb1,vb2,vb3),(0.2,0.4,1)):\n",
    "    makedirs_p(f'fermi/vb_{vb}')\n",
    "    # run the interpolation, lpfac should be between 50 and 150\n",
    "    BoltztrapRunner(bs=bs,nelec=nelect,lpfac=50,run_type='FERMI',band_nb=vb,cond_band=False).run(path_dir=f'fermi/vb_{vb}/')\n",
    "\n",
    "    # read the output\n",
    "    an=BoltztrapAnalyzer.from_files(f\"fermi/vb_{vb}/boltztrap/\")\n",
    "    \n",
    "    # plot the fermi surface in the previous figure object\n",
    "    fig, mlab = plot_fermi_surface(an.fermi_surface_data,bs.structure,cbm=False,energy_levels=[-0.07], \n",
    "                               kpoints_dict=kpoints_dict, labels_scale_factor=0.1,\n",
    "                               interative=False, mlab_figure=fig,multiple_figure=False,transparency_factor=[tf])\n",
    "mlab.show()"
   ]
  },
  {
   "cell_type": "markdown",
   "metadata": {},
   "source": [
    "![Fermi surface of first 3 vbs and cbm for PbTe](boltztrap2_data/fermi_surface_vb_cb_AlAs.png)"
   ]
  },
  {
   "cell_type": "markdown",
   "metadata": {},
   "source": [
    "# In case of a cube file from other software"
   ]
  },
  {
   "cell_type": "code",
   "execution_count": 27,
   "metadata": {},
   "outputs": [
    {
     "name": "stderr",
     "output_type": "stream",
     "text": [
      "/usr/lib64/python3.7/site-packages/pymatgen/io/vasp/outputs.py:886: UserWarning: No POTCAR file with matching TITEL fields was found in /home/tardo/github/matgenb/notebooks/boltztrap2_data\n",
      "  \" was found in {}\".format(os.path.abspath(p)))\n"
     ]
    }
   ],
   "source": [
    "from pymatgen.electronic_structure.boltztrap import read_cube_file\n",
    "\n",
    "# decompress boltztrap_BZ.cube.gz before running the following\n",
    "fs_data = read_cube_file('boltztrap2_data/boltztrap_BZ.cube')\n",
    "st = Vasprun('boltztrap2_data/vasprun_mp-12103.xml.gz').final_structure\n",
    "kpoints_dict = HighSymmKpath(st).kpath['kpoints']"
   ]
  },
  {
   "cell_type": "code",
   "execution_count": 23,
   "metadata": {},
   "outputs": [
    {
     "name": "stdout",
     "output_type": "stream",
     "text": [
      "Energy level set to: 1.0449469713543411 eV\n"
     ]
    },
    {
     "data": {
      "text/plain": [
       "(<mayavi.core.scene.Scene at 0x7ffaccb68b30>,\n",
       " <module 'mayavi.mlab' from '/home/tardo/.local/lib/python3.7/site-packages/mayavi/mlab.py'>)"
      ]
     },
     "execution_count": 23,
     "metadata": {},
     "output_type": "execute_result"
    }
   ],
   "source": [
    "plot_fermi_surface(fs_data,st,cbm=True, \n",
    "                   kpoints_dict=kpoints_dict, labels_scale_factor=0.1,\n",
    "                   color=(1,0,0))"
   ]
  },
  {
   "cell_type": "markdown",
   "metadata": {},
   "source": [
    "![Fermi surface of cbm for N2](boltztrap2_data/fermi_surface_cbm_mp-12103.png)"
   ]
  },
  {
   "cell_type": "markdown",
   "metadata": {},
   "source": [
    "## Using BoltzTraP 2 pymatgen interface"
   ]
  },
  {
   "cell_type": "code",
   "execution_count": 1,
   "metadata": {},
   "outputs": [],
   "source": [
    "from pymatgen.electronic_structure.boltztrap2 import BztInterpolator, VasprunBSLoader"
   ]
  },
  {
   "cell_type": "code",
   "execution_count": 2,
   "metadata": {},
   "outputs": [
    {
     "name": "stderr",
     "output_type": "stream",
     "text": [
      "/usr/lib64/python3.7/site-packages/pymatgen/io/vasp/outputs.py:886: UserWarning: No POTCAR file with matching TITEL fields was found in /home/tardo/github/matgenb/notebooks/boltztrap2_data\n",
      "  \" was found in {}\".format(os.path.abspath(p)))\n"
     ]
    }
   ],
   "source": [
    "vrun = Vasprun('boltztrap2_data/vasprun-PbTe_uniform_bs.xml')\n",
    "bs = vrun.get_band_structure()\n",
    "nelect = vrun.parameters['NELECT']"
   ]
  },
  {
   "cell_type": "code",
   "execution_count": 3,
   "metadata": {},
   "outputs": [],
   "source": [
    "data = VasprunBSLoader(vrun)"
   ]
  },
  {
   "cell_type": "code",
   "execution_count": 4,
   "metadata": {},
   "outputs": [],
   "source": [
    "bztI = BztInterpolator(data,lpfac=10)"
   ]
  },
  {
   "cell_type": "code",
   "execution_count": 5,
   "metadata": {},
   "outputs": [
    {
     "data": {
      "text/plain": [
       "(6, 148877)"
      ]
     },
     "execution_count": 5,
     "metadata": {},
     "output_type": "execute_result"
    }
   ],
   "source": [
    "bztI.eband.shape"
   ]
  },
  {
   "cell_type": "code",
   "execution_count": 6,
   "metadata": {},
   "outputs": [],
   "source": [
    "from BoltzTraP2 import fermisurface"
   ]
  },
  {
   "cell_type": "code",
   "execution_count": null,
   "metadata": {},
   "outputs": [],
   "source": [
    "# with 2:3 we get the index of the vb, mu is in Ha\n",
    "fermisurface.plot_fermisurface(data,bztI.equivalences,bztI.eband[2:3,:],mu=-0.003)"
   ]
  },
  {
   "cell_type": "markdown",
   "metadata": {},
   "source": [
    "![Fermi surface of vbm for PbTe](boltztrap2_data/fermi_surface_vbm_PbTe_bzt2.png)"
   ]
  }
 ],
 "metadata": {
  "kernelspec": {
   "display_name": "Python 3",
   "language": "python",
   "name": "python3"
  },
  "language_info": {
   "codemirror_mode": {
    "name": "ipython",
    "version": 3
   },
   "file_extension": ".py",
   "mimetype": "text/x-python",
   "name": "python",
   "nbconvert_exporter": "python",
   "pygments_lexer": "ipython3",
   "version": "3.7.5"
  }
 },
 "nbformat": 4,
 "nbformat_minor": 2
}
